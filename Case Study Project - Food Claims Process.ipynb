{
 "cells": [
  {
   "cell_type": "markdown",
   "id": "4db659bb",
   "metadata": {},
   "source": [
    "##  Case Study Project - Food Claims Process"
   ]
  },
  {
   "cell_type": "markdown",
   "id": "f86db451",
   "metadata": {},
   "source": [
    "a) Data Validation\n",
    "\n",
    "The Vivendo fast food Dataset will be imported into Jupyter notebook for Data Validation"
   ]
  },
  {
   "cell_type": "code",
   "execution_count": 1,
   "id": "bb8a249a",
   "metadata": {},
   "outputs": [],
   "source": [
    "# Import libraries\n",
    "\n",
    "import pandas as pd\n",
    "import numpy as np\n",
    "import seaborn as sns\n",
    "import matplotlib.pyplot as plt"
   ]
  },
  {
   "cell_type": "code",
   "execution_count": 2,
   "id": "3cf565dc",
   "metadata": {},
   "outputs": [],
   "source": [
    "# load Vivendo claim dataset into jupyter\n",
    "\n",
    "claim_df = pd.read_csv('C:/Users/YINKA ADEWUNI/Documents/Projects/claims.csv')"
   ]
  },
  {
   "cell_type": "code",
   "execution_count": 3,
   "id": "e4fdcb6f",
   "metadata": {},
   "outputs": [
    {
     "data": {
      "text/html": [
       "<div>\n",
       "<style scoped>\n",
       "    .dataframe tbody tr th:only-of-type {\n",
       "        vertical-align: middle;\n",
       "    }\n",
       "\n",
       "    .dataframe tbody tr th {\n",
       "        vertical-align: top;\n",
       "    }\n",
       "\n",
       "    .dataframe thead th {\n",
       "        text-align: right;\n",
       "    }\n",
       "</style>\n",
       "<table border=\"1\" class=\"dataframe\">\n",
       "  <thead>\n",
       "    <tr style=\"text-align: right;\">\n",
       "      <th></th>\n",
       "      <th>Claim ID</th>\n",
       "      <th>Time to Close</th>\n",
       "      <th>Claim Amount</th>\n",
       "      <th>Amount Paid</th>\n",
       "      <th>Location</th>\n",
       "      <th>Individuals on Claim</th>\n",
       "      <th>Linked Cases</th>\n",
       "      <th>Cause</th>\n",
       "    </tr>\n",
       "  </thead>\n",
       "  <tbody>\n",
       "    <tr>\n",
       "      <th>0</th>\n",
       "      <td>0000000-00.2010.0.00.0094</td>\n",
       "      <td>2082</td>\n",
       "      <td>R$50,000.00</td>\n",
       "      <td>34297.47</td>\n",
       "      <td>RECIFE</td>\n",
       "      <td>2</td>\n",
       "      <td>False</td>\n",
       "      <td>NaN</td>\n",
       "    </tr>\n",
       "    <tr>\n",
       "      <th>1</th>\n",
       "      <td>0000000-00.2011.0.00.0086</td>\n",
       "      <td>3591</td>\n",
       "      <td>R$180,000.00</td>\n",
       "      <td>56383.54</td>\n",
       "      <td>SAO LUIS</td>\n",
       "      <td>7</td>\n",
       "      <td>False</td>\n",
       "      <td>NaN</td>\n",
       "    </tr>\n",
       "    <tr>\n",
       "      <th>2</th>\n",
       "      <td>0000000-00.2012.0.00.0092</td>\n",
       "      <td>2997</td>\n",
       "      <td>R$70,000.00</td>\n",
       "      <td>12366.76</td>\n",
       "      <td>SAO LUIS</td>\n",
       "      <td>3</td>\n",
       "      <td>False</td>\n",
       "      <td>vegetables</td>\n",
       "    </tr>\n",
       "    <tr>\n",
       "      <th>3</th>\n",
       "      <td>0000000-00.2013.0.00.0096</td>\n",
       "      <td>1143</td>\n",
       "      <td>R$95,104.00</td>\n",
       "      <td>29217.16</td>\n",
       "      <td>FORTALEZA</td>\n",
       "      <td>4</td>\n",
       "      <td>False</td>\n",
       "      <td>NaN</td>\n",
       "    </tr>\n",
       "    <tr>\n",
       "      <th>4</th>\n",
       "      <td>0000000-00.2014.0.00.0097</td>\n",
       "      <td>117</td>\n",
       "      <td>R$29,000.00</td>\n",
       "      <td>12610.50</td>\n",
       "      <td>FORTALEZA</td>\n",
       "      <td>1</td>\n",
       "      <td>False</td>\n",
       "      <td>meat</td>\n",
       "    </tr>\n",
       "  </tbody>\n",
       "</table>\n",
       "</div>"
      ],
      "text/plain": [
       "                    Claim ID  Time to Close  Claim Amount  Amount Paid  \\\n",
       "0  0000000-00.2010.0.00.0094           2082   R$50,000.00     34297.47   \n",
       "1  0000000-00.2011.0.00.0086           3591  R$180,000.00     56383.54   \n",
       "2  0000000-00.2012.0.00.0092           2997   R$70,000.00     12366.76   \n",
       "3  0000000-00.2013.0.00.0096           1143   R$95,104.00     29217.16   \n",
       "4  0000000-00.2014.0.00.0097            117   R$29,000.00     12610.50   \n",
       "\n",
       "    Location  Individuals on Claim  Linked Cases       Cause  \n",
       "0     RECIFE                     2         False         NaN  \n",
       "1   SAO LUIS                     7         False         NaN  \n",
       "2   SAO LUIS                     3         False  vegetables  \n",
       "3  FORTALEZA                     4         False         NaN  \n",
       "4  FORTALEZA                     1         False        meat  "
      ]
     },
     "execution_count": 3,
     "metadata": {},
     "output_type": "execute_result"
    }
   ],
   "source": [
    "# Inspect the first five rows\n",
    "claim_df.head()"
   ]
  },
  {
   "cell_type": "code",
   "execution_count": 4,
   "id": "1c105a00",
   "metadata": {},
   "outputs": [
    {
     "data": {
      "text/plain": [
       "(98, 8)"
      ]
     },
     "execution_count": 4,
     "metadata": {},
     "output_type": "execute_result"
    }
   ],
   "source": [
    "# Find out the total number of rows and columns of the dataset\n",
    "\n",
    "claim_df.shape"
   ]
  },
  {
   "cell_type": "markdown",
   "id": "48e4137a",
   "metadata": {},
   "source": [
    "It can be seen that there are 98 records and 8 features"
   ]
  },
  {
   "cell_type": "code",
   "execution_count": 5,
   "id": "85ac5b51",
   "metadata": {},
   "outputs": [
    {
     "data": {
      "text/plain": [
       "Claim ID                 object\n",
       "Time to Close             int64\n",
       "Claim Amount             object\n",
       "Amount Paid             float64\n",
       "Location                 object\n",
       "Individuals on Claim      int64\n",
       "Linked Cases               bool\n",
       "Cause                    object\n",
       "dtype: object"
      ]
     },
     "execution_count": 5,
     "metadata": {},
     "output_type": "execute_result"
    }
   ],
   "source": [
    "# Inspect the data types of the features\n",
    "\n",
    "claim_df.dtypes"
   ]
  },
  {
   "cell_type": "code",
   "execution_count": 6,
   "id": "e31592f3",
   "metadata": {},
   "outputs": [
    {
     "name": "stderr",
     "output_type": "stream",
     "text": [
      "C:\\Users\\YINKA ADEWUNI\\AppData\\Local\\Temp\\ipykernel_13756\\2206982051.py:3: FutureWarning: The default value of regex will change from True to False in a future version. In addition, single character regular expressions will *not* be treated as literal strings when regex=True.\n",
      "  claim_df['Claim Amount'] = claim_df['Claim Amount'].str.replace('$','')\n"
     ]
    }
   ],
   "source": [
    "# Data cleaning of the Claim Amount column to remove 'R','$' and ','\n",
    "claim_df['Claim Amount'] = claim_df['Claim Amount'].str.replace('R','')\n",
    "claim_df['Claim Amount'] = claim_df['Claim Amount'].str.replace('$','')\n",
    "claim_df['Claim Amount'] = claim_df['Claim Amount'].str.replace(',','')\n",
    "claim_df['Claim Amount'] = claim_df['Claim Amount'].astype(float)"
   ]
  },
  {
   "cell_type": "code",
   "execution_count": 7,
   "id": "ccbc7f99",
   "metadata": {},
   "outputs": [
    {
     "data": {
      "text/plain": [
       "0     50000.0\n",
       "1    180000.0\n",
       "2     70000.0\n",
       "3     95104.0\n",
       "4     29000.0\n",
       "Name: Claim Amount, dtype: float64"
      ]
     },
     "execution_count": 7,
     "metadata": {},
     "output_type": "execute_result"
    }
   ],
   "source": [
    "claim_df['Claim Amount'].head()"
   ]
  },
  {
   "cell_type": "code",
   "execution_count": 8,
   "id": "f8dd9952",
   "metadata": {},
   "outputs": [
    {
     "data": {
      "text/plain": [
       "0       unknown\n",
       "1       unknown\n",
       "2    vegetables\n",
       "3       unknown\n",
       "4          meat\n",
       "Name: Cause, dtype: object"
      ]
     },
     "execution_count": 8,
     "metadata": {},
     "output_type": "execute_result"
    }
   ],
   "source": [
    "claim_df['Cause'] = claim_df['Cause'].fillna('unknown')\n",
    "claim_df['Cause'].head()"
   ]
  },
  {
   "cell_type": "code",
   "execution_count": 9,
   "id": "76d52f6c",
   "metadata": {},
   "outputs": [
    {
     "data": {
      "text/plain": [
       "Claim ID                0\n",
       "Time to Close           0\n",
       "Claim Amount            0\n",
       "Amount Paid             0\n",
       "Location                0\n",
       "Individuals on Claim    0\n",
       "Linked Cases            0\n",
       "Cause                   0\n",
       "dtype: int64"
      ]
     },
     "execution_count": 9,
     "metadata": {},
     "output_type": "execute_result"
    }
   ],
   "source": [
    "# Are there other missing values?\n",
    "\n",
    "claim_df.isnull().sum()"
   ]
  },
  {
   "cell_type": "code",
   "execution_count": 10,
   "id": "c3cae1b7",
   "metadata": {},
   "outputs": [
    {
     "data": {
      "text/plain": [
       "Claim ID                 object\n",
       "Time to Close             int64\n",
       "Claim Amount            float64\n",
       "Amount Paid             float64\n",
       "Location                 object\n",
       "Individuals on Claim      int64\n",
       "Linked Cases               bool\n",
       "Cause                    object\n",
       "dtype: object"
      ]
     },
     "execution_count": 10,
     "metadata": {},
     "output_type": "execute_result"
    }
   ],
   "source": [
    "claim_df.dtypes"
   ]
  },
  {
   "cell_type": "markdown",
   "id": "5e95db47",
   "metadata": {},
   "source": [
    "It can be seen that the data now has been cleaned. No missing values and they have the right data types"
   ]
  },
  {
   "cell_type": "markdown",
   "id": "f7e1bc28",
   "metadata": {},
   "source": [
    "**Data Discovery and Visualization**"
   ]
  },
  {
   "cell_type": "markdown",
   "id": "b78f04e5",
   "metadata": {},
   "source": [
    "How does the number of claims differ across locations?"
   ]
  },
  {
   "cell_type": "code",
   "execution_count": 11,
   "id": "13d26e57",
   "metadata": {},
   "outputs": [
    {
     "data": {
      "text/plain": [
       "SAO LUIS     30\n",
       "RECIFE       25\n",
       "FORTALEZA    22\n",
       "NATAL        21\n",
       "Name: Location, dtype: int64"
      ]
     },
     "execution_count": 11,
     "metadata": {},
     "output_type": "execute_result"
    }
   ],
   "source": [
    "claim_df['Location'].value_counts()"
   ]
  },
  {
   "cell_type": "code",
   "execution_count": 12,
   "id": "2eb1233f",
   "metadata": {},
   "outputs": [
    {
     "name": "stderr",
     "output_type": "stream",
     "text": [
      "C:\\ProgramData\\Anaconda3\\lib\\site-packages\\seaborn\\_decorators.py:36: FutureWarning: Pass the following variable as a keyword arg: x. From version 0.12, the only valid positional argument will be `data`, and passing other arguments without an explicit keyword will result in an error or misinterpretation.\n",
      "  warnings.warn(\n"
     ]
    },
    {
     "data": {
      "image/png": "[encoded data removed]",
      "text/plain": [
       "<Figure size 432x288 with 1 Axes>"
      ]
     },
     "metadata": {
      "needs_background": "light"
     },
     "output_type": "display_data"
    }
   ],
   "source": [
    "# Visualize the number of claims per location using the seaborn countplot\n",
    "\n",
    "g = sns.countplot(claim_df['Location'])\n",
    "g.set_title('Number of Claims Per Location')\n",
    "g.set_ylabel('Number of Claims')\n",
    "\n",
    "plt.savefig('C:/Users/YINKA ADEWUNI/Documents/Pics/countplot.jpg')\n"
   ]
  },
  {
   "cell_type": "markdown",
   "id": "fcbca6f3",
   "metadata": {},
   "source": [
    "**What is the distribution of time to close claims?**"
   ]
  },
  {
   "cell_type": "code",
   "execution_count": 13,
   "id": "4ccdd7d5",
   "metadata": {},
   "outputs": [
    {
     "data": {
      "text/plain": [
       "count      98.000000\n",
       "mean      832.346939\n",
       "std       686.851131\n",
       "min       -57.000000\n",
       "25%       340.750000\n",
       "50%       638.500000\n",
       "75%      1138.750000\n",
       "max      3591.000000\n",
       "Name: Time to Close, dtype: float64"
      ]
     },
     "execution_count": 13,
     "metadata": {},
     "output_type": "execute_result"
    }
   ],
   "source": [
    "claim_df['Time to Close'].describe()  "
   ]
  },
  {
   "cell_type": "markdown",
   "id": "c13622c1",
   "metadata": {},
   "source": [
    "It can be seen that the minimum 'Time to Close' is -57 which obviously can't be correct since the 'Time to Close' must be a positive number that tells the number it takes to process the claim. The records must be investigated further to see if there are more negative values."
   ]
  },
  {
   "cell_type": "code",
   "execution_count": 14,
   "id": "389b9189",
   "metadata": {},
   "outputs": [
    {
     "data": {
      "text/html": [
       "<div>\n",
       "<style scoped>\n",
       "    .dataframe tbody tr th:only-of-type {\n",
       "        vertical-align: middle;\n",
       "    }\n",
       "\n",
       "    .dataframe tbody tr th {\n",
       "        vertical-align: top;\n",
       "    }\n",
       "\n",
       "    .dataframe thead th {\n",
       "        text-align: right;\n",
       "    }\n",
       "</style>\n",
       "<table border=\"1\" class=\"dataframe\">\n",
       "  <thead>\n",
       "    <tr style=\"text-align: right;\">\n",
       "      <th></th>\n",
       "      <th>Claim ID</th>\n",
       "      <th>Time to Close</th>\n",
       "      <th>Claim Amount</th>\n",
       "      <th>Amount Paid</th>\n",
       "      <th>Location</th>\n",
       "      <th>Individuals on Claim</th>\n",
       "      <th>Linked Cases</th>\n",
       "      <th>Cause</th>\n",
       "    </tr>\n",
       "  </thead>\n",
       "  <tbody>\n",
       "    <tr>\n",
       "      <th>58</th>\n",
       "      <td>0000000-00.2019.0.00.0079</td>\n",
       "      <td>-57</td>\n",
       "      <td>3672.0</td>\n",
       "      <td>999.68</td>\n",
       "      <td>SAO LUIS</td>\n",
       "      <td>0</td>\n",
       "      <td>False</td>\n",
       "      <td>unknown</td>\n",
       "    </tr>\n",
       "  </tbody>\n",
       "</table>\n",
       "</div>"
      ],
      "text/plain": [
       "                     Claim ID  Time to Close  Claim Amount  Amount Paid  \\\n",
       "58  0000000-00.2019.0.00.0079            -57        3672.0       999.68   \n",
       "\n",
       "    Location  Individuals on Claim  Linked Cases    Cause  \n",
       "58  SAO LUIS                     0         False  unknown  "
      ]
     },
     "execution_count": 14,
     "metadata": {},
     "output_type": "execute_result"
    }
   ],
   "source": [
    "claim_df[claim_df['Time to Close'] <= 0] "
   ]
  },
  {
   "cell_type": "markdown",
   "id": "b5a45c72",
   "metadata": {},
   "source": [
    "There is only one row where the 'Time to Close' is negative. It might be due to wrong computation. It will be replaced with postive 57."
   ]
  },
  {
   "cell_type": "code",
   "execution_count": 15,
   "id": "289317e1",
   "metadata": {},
   "outputs": [
    {
     "data": {
      "text/html": [
       "<div>\n",
       "<style scoped>\n",
       "    .dataframe tbody tr th:only-of-type {\n",
       "        vertical-align: middle;\n",
       "    }\n",
       "\n",
       "    .dataframe tbody tr th {\n",
       "        vertical-align: top;\n",
       "    }\n",
       "\n",
       "    .dataframe thead th {\n",
       "        text-align: right;\n",
       "    }\n",
       "</style>\n",
       "<table border=\"1\" class=\"dataframe\">\n",
       "  <thead>\n",
       "    <tr style=\"text-align: right;\">\n",
       "      <th></th>\n",
       "      <th>Claim ID</th>\n",
       "      <th>Time to Close</th>\n",
       "      <th>Claim Amount</th>\n",
       "      <th>Amount Paid</th>\n",
       "      <th>Location</th>\n",
       "      <th>Individuals on Claim</th>\n",
       "      <th>Linked Cases</th>\n",
       "      <th>Cause</th>\n",
       "    </tr>\n",
       "  </thead>\n",
       "  <tbody>\n",
       "    <tr>\n",
       "      <th>0</th>\n",
       "      <td>0000000-00.2010.0.00.0094</td>\n",
       "      <td>2082</td>\n",
       "      <td>50000.0</td>\n",
       "      <td>34297.47</td>\n",
       "      <td>RECIFE</td>\n",
       "      <td>2</td>\n",
       "      <td>False</td>\n",
       "      <td>unknown</td>\n",
       "    </tr>\n",
       "    <tr>\n",
       "      <th>1</th>\n",
       "      <td>0000000-00.2011.0.00.0086</td>\n",
       "      <td>3591</td>\n",
       "      <td>180000.0</td>\n",
       "      <td>56383.54</td>\n",
       "      <td>SAO LUIS</td>\n",
       "      <td>7</td>\n",
       "      <td>False</td>\n",
       "      <td>unknown</td>\n",
       "    </tr>\n",
       "  </tbody>\n",
       "</table>\n",
       "</div>"
      ],
      "text/plain": [
       "                    Claim ID  Time to Close  Claim Amount  Amount Paid  \\\n",
       "0  0000000-00.2010.0.00.0094           2082       50000.0     34297.47   \n",
       "1  0000000-00.2011.0.00.0086           3591      180000.0     56383.54   \n",
       "\n",
       "   Location  Individuals on Claim  Linked Cases    Cause  \n",
       "0    RECIFE                     2         False  unknown  \n",
       "1  SAO LUIS                     7         False  unknown  "
      ]
     },
     "execution_count": 15,
     "metadata": {},
     "output_type": "execute_result"
    }
   ],
   "source": [
    "claim_df.set_index('Claim ID')\n",
    "claim_df.head(2)"
   ]
  },
  {
   "cell_type": "code",
   "execution_count": 16,
   "id": "498122a2",
   "metadata": {},
   "outputs": [],
   "source": [
    "claim_df.loc[claim_df['Time to Close'] == -57, 'Time to Close'] = 57"
   ]
  },
  {
   "cell_type": "code",
   "execution_count": 17,
   "id": "a8c094e9",
   "metadata": {},
   "outputs": [
    {
     "data": {
      "text/plain": [
       "count      98.000000\n",
       "mean      833.510204\n",
       "std       685.424441\n",
       "min        29.000000\n",
       "25%       340.750000\n",
       "50%       638.500000\n",
       "75%      1138.750000\n",
       "max      3591.000000\n",
       "Name: Time to Close, dtype: float64"
      ]
     },
     "execution_count": 17,
     "metadata": {},
     "output_type": "execute_result"
    }
   ],
   "source": [
    "#Confirm if any negative value in the 'Time to Close' column\n",
    "\n",
    "claim_df['Time to Close'].describe() # Negative value been replacfed successfully"
   ]
  },
  {
   "cell_type": "code",
   "execution_count": 18,
   "id": "a567de41",
   "metadata": {},
   "outputs": [
    {
     "data": {
      "text/html": [
       "<div>\n",
       "<style scoped>\n",
       "    .dataframe tbody tr th:only-of-type {\n",
       "        vertical-align: middle;\n",
       "    }\n",
       "\n",
       "    .dataframe tbody tr th {\n",
       "        vertical-align: top;\n",
       "    }\n",
       "\n",
       "    .dataframe thead th {\n",
       "        text-align: right;\n",
       "    }\n",
       "</style>\n",
       "<table border=\"1\" class=\"dataframe\">\n",
       "  <thead>\n",
       "    <tr style=\"text-align: right;\">\n",
       "      <th></th>\n",
       "      <th>index</th>\n",
       "      <th>Claim ID</th>\n",
       "      <th>Time to Close</th>\n",
       "      <th>Claim Amount</th>\n",
       "      <th>Amount Paid</th>\n",
       "      <th>Location</th>\n",
       "      <th>Individuals on Claim</th>\n",
       "      <th>Linked Cases</th>\n",
       "      <th>Cause</th>\n",
       "    </tr>\n",
       "  </thead>\n",
       "  <tbody>\n",
       "    <tr>\n",
       "      <th>0</th>\n",
       "      <td>0</td>\n",
       "      <td>0000000-00.2010.0.00.0094</td>\n",
       "      <td>2082</td>\n",
       "      <td>50000.0</td>\n",
       "      <td>34297.47</td>\n",
       "      <td>RECIFE</td>\n",
       "      <td>2</td>\n",
       "      <td>False</td>\n",
       "      <td>unknown</td>\n",
       "    </tr>\n",
       "    <tr>\n",
       "      <th>1</th>\n",
       "      <td>1</td>\n",
       "      <td>0000000-00.2011.0.00.0086</td>\n",
       "      <td>3591</td>\n",
       "      <td>180000.0</td>\n",
       "      <td>56383.54</td>\n",
       "      <td>SAO LUIS</td>\n",
       "      <td>7</td>\n",
       "      <td>False</td>\n",
       "      <td>unknown</td>\n",
       "    </tr>\n",
       "    <tr>\n",
       "      <th>2</th>\n",
       "      <td>2</td>\n",
       "      <td>0000000-00.2012.0.00.0092</td>\n",
       "      <td>2997</td>\n",
       "      <td>70000.0</td>\n",
       "      <td>12366.76</td>\n",
       "      <td>SAO LUIS</td>\n",
       "      <td>3</td>\n",
       "      <td>False</td>\n",
       "      <td>vegetables</td>\n",
       "    </tr>\n",
       "    <tr>\n",
       "      <th>3</th>\n",
       "      <td>3</td>\n",
       "      <td>0000000-00.2013.0.00.0096</td>\n",
       "      <td>1143</td>\n",
       "      <td>95104.0</td>\n",
       "      <td>29217.16</td>\n",
       "      <td>FORTALEZA</td>\n",
       "      <td>4</td>\n",
       "      <td>False</td>\n",
       "      <td>unknown</td>\n",
       "    </tr>\n",
       "    <tr>\n",
       "      <th>4</th>\n",
       "      <td>4</td>\n",
       "      <td>0000000-00.2014.0.00.0097</td>\n",
       "      <td>117</td>\n",
       "      <td>29000.0</td>\n",
       "      <td>12610.50</td>\n",
       "      <td>FORTALEZA</td>\n",
       "      <td>1</td>\n",
       "      <td>False</td>\n",
       "      <td>meat</td>\n",
       "    </tr>\n",
       "    <tr>\n",
       "      <th>...</th>\n",
       "      <td>...</td>\n",
       "      <td>...</td>\n",
       "      <td>...</td>\n",
       "      <td>...</td>\n",
       "      <td>...</td>\n",
       "      <td>...</td>\n",
       "      <td>...</td>\n",
       "      <td>...</td>\n",
       "      <td>...</td>\n",
       "    </tr>\n",
       "    <tr>\n",
       "      <th>93</th>\n",
       "      <td>93</td>\n",
       "      <td>0000000-00.2020.0.00.0023</td>\n",
       "      <td>208</td>\n",
       "      <td>80396.0</td>\n",
       "      <td>40668.14</td>\n",
       "      <td>FORTALEZA</td>\n",
       "      <td>3</td>\n",
       "      <td>False</td>\n",
       "      <td>meat</td>\n",
       "    </tr>\n",
       "    <tr>\n",
       "      <th>94</th>\n",
       "      <td>94</td>\n",
       "      <td>0000000-00.2020.0.00.0057</td>\n",
       "      <td>86</td>\n",
       "      <td>50000.0</td>\n",
       "      <td>8363.96</td>\n",
       "      <td>FORTALEZA</td>\n",
       "      <td>2</td>\n",
       "      <td>False</td>\n",
       "      <td>unknown</td>\n",
       "    </tr>\n",
       "    <tr>\n",
       "      <th>95</th>\n",
       "      <td>95</td>\n",
       "      <td>0000000-00.2020.0.00.0010</td>\n",
       "      <td>201</td>\n",
       "      <td>60000.0</td>\n",
       "      <td>42318.80</td>\n",
       "      <td>NATAL</td>\n",
       "      <td>2</td>\n",
       "      <td>False</td>\n",
       "      <td>unknown</td>\n",
       "    </tr>\n",
       "    <tr>\n",
       "      <th>96</th>\n",
       "      <td>96</td>\n",
       "      <td>0000000-00.2020.0.00.0059</td>\n",
       "      <td>200</td>\n",
       "      <td>474542.0</td>\n",
       "      <td>329473.49</td>\n",
       "      <td>NATAL</td>\n",
       "      <td>20</td>\n",
       "      <td>True</td>\n",
       "      <td>unknown</td>\n",
       "    </tr>\n",
       "    <tr>\n",
       "      <th>97</th>\n",
       "      <td>97</td>\n",
       "      <td>0000000-00.2020.0.00.0073</td>\n",
       "      <td>195</td>\n",
       "      <td>40000.0</td>\n",
       "      <td>15406.95</td>\n",
       "      <td>NATAL</td>\n",
       "      <td>1</td>\n",
       "      <td>False</td>\n",
       "      <td>unknown</td>\n",
       "    </tr>\n",
       "  </tbody>\n",
       "</table>\n",
       "<p>98 rows × 9 columns</p>\n",
       "</div>"
      ],
      "text/plain": [
       "    index                   Claim ID  Time to Close  Claim Amount  \\\n",
       "0       0  0000000-00.2010.0.00.0094           2082       50000.0   \n",
       "1       1  0000000-00.2011.0.00.0086           3591      180000.0   \n",
       "2       2  0000000-00.2012.0.00.0092           2997       70000.0   \n",
       "3       3  0000000-00.2013.0.00.0096           1143       95104.0   \n",
       "4       4  0000000-00.2014.0.00.0097            117       29000.0   \n",
       "..    ...                        ...            ...           ...   \n",
       "93     93  0000000-00.2020.0.00.0023            208       80396.0   \n",
       "94     94  0000000-00.2020.0.00.0057             86       50000.0   \n",
       "95     95  0000000-00.2020.0.00.0010            201       60000.0   \n",
       "96     96  0000000-00.2020.0.00.0059            200      474542.0   \n",
       "97     97  0000000-00.2020.0.00.0073            195       40000.0   \n",
       "\n",
       "    Amount Paid   Location  Individuals on Claim  Linked Cases       Cause  \n",
       "0      34297.47     RECIFE                     2         False     unknown  \n",
       "1      56383.54   SAO LUIS                     7         False     unknown  \n",
       "2      12366.76   SAO LUIS                     3         False  vegetables  \n",
       "3      29217.16  FORTALEZA                     4         False     unknown  \n",
       "4      12610.50  FORTALEZA                     1         False        meat  \n",
       "..          ...        ...                   ...           ...         ...  \n",
       "93     40668.14  FORTALEZA                     3         False        meat  \n",
       "94      8363.96  FORTALEZA                     2         False     unknown  \n",
       "95     42318.80      NATAL                     2         False     unknown  \n",
       "96    329473.49      NATAL                    20          True     unknown  \n",
       "97     15406.95      NATAL                     1         False     unknown  \n",
       "\n",
       "[98 rows x 9 columns]"
      ]
     },
     "execution_count": 18,
     "metadata": {},
     "output_type": "execute_result"
    }
   ],
   "source": [
    "claim_df.reset_index()"
   ]
  },
  {
   "cell_type": "code",
   "execution_count": 22,
   "id": "bb5335fb",
   "metadata": {},
   "outputs": [
    {
     "data": {
      "text/plain": [
       "<Figure size 864x720 with 0 Axes>"
      ]
     },
     "metadata": {},
     "output_type": "display_data"
    },
    {
     "data": {
      "image/png": "[encoded data removed]",
      "text/plain": [
       "<Figure size 360x360 with 1 Axes>"
      ]
     },
     "metadata": {
      "needs_background": "light"
     },
     "output_type": "display_data"
    }
   ],
   "source": [
    "plt.figure(figsize = (12,10))\n",
    "\n",
    "sns. displot(claim_df['Time to Close'])\n",
    "plt.title('Distribution of Time to Close Claim')\n",
    "plt.ylabel('Number of Claims')\n",
    "plt.xlabel('Time to Close Claim (Days)')\n",
    "\n",
    "\n",
    "\n",
    "plt.savefig('C:/Users/YINKA ADEWUNI/Documents/Pics/displot.jpg')"
   ]
  },
  {
   "cell_type": "markdown",
   "id": "c285ed7e",
   "metadata": {},
   "source": [
    "**How does the average time to close claims differ by location?**"
   ]
  },
  {
   "cell_type": "code",
   "execution_count": 20,
   "id": "970b82af",
   "metadata": {},
   "outputs": [
    {
     "data": {
      "text/plain": [
       "Location\n",
       "FORTALEZA     775.500000\n",
       "NATAL         581.142857\n",
       "RECIFE        860.680000\n",
       "SAO LUIS     1030.066667\n",
       "Name: Time to Close, dtype: float64"
      ]
     },
     "execution_count": 20,
     "metadata": {},
     "output_type": "execute_result"
    }
   ],
   "source": [
    "Location_ttclose = claim_df.groupby('Location')['Time to Close'].mean()\n",
    "Location_ttclose"
   ]
  },
  {
   "cell_type": "code",
   "execution_count": 21,
   "id": "4c0678fd",
   "metadata": {},
   "outputs": [
    {
     "data": {
      "image/png": "[encoded data removed]",
      "text/plain": [
       "<Figure size 720x576 with 1 Axes>"
      ]
     },
     "metadata": {
      "needs_background": "light"
     },
     "output_type": "display_data"
    }
   ],
   "source": [
    "plt.figure(figsize = (10,8))\n",
    "\n",
    "sns.barplot(data =claim_df, x = 'Location', y ='Time to Close')\n",
    "plt.title('Average time to close by location')\n",
    "plt.ylabel('Time to close (days)')\n",
    "plt.xlabel('Location')\n",
    "\n",
    "plt.savefig('C:/Users/YINKA ADEWUNI/Documents/Pics/barplot.jpg')"
   ]
  },
  {
   "cell_type": "code",
   "execution_count": 23,
   "id": "16db67bf",
   "metadata": {},
   "outputs": [
    {
     "data": {
      "text/plain": [
       "Location\n",
       "FORTALEZA    1825506.0\n",
       "NATAL        4045193.0\n",
       "RECIFE       2688374.0\n",
       "SAO LUIS     3490226.0\n",
       "Name: Claim Amount, dtype: float64"
      ]
     },
     "execution_count": 23,
     "metadata": {},
     "output_type": "execute_result"
    }
   ],
   "source": [
    "Location_claim= claim_df.groupby('Location')['Claim Amount'].sum()\n",
    "Location_claim"
   ]
  },
  {
   "cell_type": "code",
   "execution_count": 28,
   "id": "f005ee3a",
   "metadata": {},
   "outputs": [
    {
     "data": {
      "image/png": "[encoded data removed]",
      "text/plain": [
       "<Figure size 720x576 with 1 Axes>"
      ]
     },
     "metadata": {
      "needs_background": "light"
     },
     "output_type": "display_data"
    }
   ],
   "source": [
    "plt.figure(figsize = (10,8))\n",
    "\n",
    "sns.barplot(claim_df['Location'], claim_df['Claim Amount'])\n",
    "plt.title('Claim amount by location')\n",
    "plt.ylabel('Claim amount')\n",
    "plt.xlabel('Location')\n",
    "\n",
    "plt.savefig('C:/Users/YINKA ADEWUNI/Documents/Pics/barplot2.jpg')"
   ]
  },
  {
   "cell_type": "code",
   "execution_count": 29,
   "id": "42a0d246",
   "metadata": {},
   "outputs": [
    {
     "name": "stderr",
     "output_type": "stream",
     "text": [
      "C:\\ProgramData\\Anaconda3\\lib\\site-packages\\seaborn\\_decorators.py:36: FutureWarning: Pass the following variables as keyword args: x, y. From version 0.12, the only valid positional argument will be `data`, and passing other arguments without an explicit keyword will result in an error or misinterpretation.\n",
      "  warnings.warn(\n"
     ]
    },
    {
     "data": {
      "image/png": "[encoded data removed]",
      "text/plain": [
       "<Figure size 720x576 with 1 Axes>"
      ]
     },
     "metadata": {
      "needs_background": "light"
     },
     "output_type": "display_data"
    }
   ],
   "source": [
    "plt.figure(figsize = (10,8))\n",
    "\n",
    "sns.boxplot(claim_df['Location'], claim_df['Time to Close'])\n",
    "plt.title('Time to Close by Location')\n",
    "plt.ylabel('Time to Close')\n",
    "plt.xlabel('Location')\n",
    "\n",
    "plt.savefig('C:/Users/YINKA ADEWUNI/Documents/Pics/boxplot.jpg')"
   ]
  },
  {
   "cell_type": "code",
   "execution_count": null,
   "id": "80174f19",
   "metadata": {},
   "outputs": [],
   "source": []
  }
 ],
 "metadata": {
  "kernelspec": {
   "display_name": "Python 3 (ipykernel)",
   "language": "python",
   "name": "python3"
  },
  "language_info": {
   "codemirror_mode": {
    "name": "ipython",
    "version": 3
   },
   "file_extension": ".py",
   "mimetype": "text/x-python",
   "name": "python",
   "nbconvert_exporter": "python",
   "pygments_lexer": "ipython3",
   "version": "3.9.12"
  }
 },
 "nbformat": 4,
 "nbformat_minor": 5
}
